{
 "cells": [
  {
   "cell_type": "code",
   "execution_count": 14,
   "metadata": {},
   "outputs": [],
   "source": [
    "import numpy as np\n",
    "import matplotlib.pyplot as plt\n",
    "import matplotlib\n",
    "import pandas as pd\n",
    "import os\n",
    "import matplotlib.pyplot as plt\n",
    "from mpl_toolkits.mplot3d import axes3d, Axes3D "
   ]
  },
  {
   "cell_type": "code",
   "execution_count": 15,
   "metadata": {},
   "outputs": [],
   "source": [
    "ablation=pd.read_pickle('alldata.pkl')"
   ]
  },
  {
   "cell_type": "code",
   "execution_count": 16,
   "metadata": {},
   "outputs": [
    {
     "name": "stderr",
     "output_type": "stream",
     "text": [
      "/home/alex/anaconda3/lib/python3.7/site-packages/ipykernel_launcher.py:1: UserWarning: Boolean Series key will be reindexed to match DataFrame index.\n",
      "  \"\"\"Entry point for launching an IPython kernel.\n"
     ]
    },
    {
     "data": {
      "text/html": [
       "<div>\n",
       "<style scoped>\n",
       "    .dataframe tbody tr th:only-of-type {\n",
       "        vertical-align: middle;\n",
       "    }\n",
       "\n",
       "    .dataframe tbody tr th {\n",
       "        vertical-align: top;\n",
       "    }\n",
       "\n",
       "    .dataframe thead th {\n",
       "        text-align: right;\n",
       "    }\n",
       "</style>\n",
       "<table border=\"1\" class=\"dataframe\">\n",
       "  <thead>\n",
       "    <tr style=\"text-align: right;\">\n",
       "      <th></th>\n",
       "      <th>pulselegth</th>\n",
       "      <th>wavelength</th>\n",
       "      <th>flux</th>\n",
       "      <th>porosity</th>\n",
       "      <th>fluence</th>\n",
       "    </tr>\n",
       "  </thead>\n",
       "  <tbody>\n",
       "    <tr>\n",
       "      <td>164</td>\n",
       "      <td>3.0</td>\n",
       "      <td>300.0</td>\n",
       "      <td>144.0</td>\n",
       "      <td>0.0</td>\n",
       "      <td>20.0</td>\n",
       "    </tr>\n",
       "    <tr>\n",
       "      <td>214</td>\n",
       "      <td>3.0</td>\n",
       "      <td>300.0</td>\n",
       "      <td>117.0</td>\n",
       "      <td>0.0</td>\n",
       "      <td>10.0</td>\n",
       "    </tr>\n",
       "    <tr>\n",
       "      <td>261</td>\n",
       "      <td>3.0</td>\n",
       "      <td>300.0</td>\n",
       "      <td>15.0</td>\n",
       "      <td>0.0</td>\n",
       "      <td>2.0</td>\n",
       "    </tr>\n",
       "    <tr>\n",
       "      <td>370</td>\n",
       "      <td>3.0</td>\n",
       "      <td>300.0</td>\n",
       "      <td>0.0</td>\n",
       "      <td>0.0</td>\n",
       "      <td>1.0</td>\n",
       "    </tr>\n",
       "    <tr>\n",
       "      <td>537</td>\n",
       "      <td>3.0</td>\n",
       "      <td>300.0</td>\n",
       "      <td>50.0</td>\n",
       "      <td>0.0</td>\n",
       "      <td>5.0</td>\n",
       "    </tr>\n",
       "  </tbody>\n",
       "</table>\n",
       "</div>"
      ],
      "text/plain": [
       "     pulselegth  wavelength   flux  porosity  fluence\n",
       "164         3.0       300.0  144.0       0.0     20.0\n",
       "214         3.0       300.0  117.0       0.0     10.0\n",
       "261         3.0       300.0   15.0       0.0      2.0\n",
       "370         3.0       300.0    0.0       0.0      1.0\n",
       "537         3.0       300.0   50.0       0.0      5.0"
      ]
     },
     "execution_count": 16,
     "metadata": {},
     "output_type": "execute_result"
    }
   ],
   "source": [
    "ablation[ablation['porosity']==0][ablation['wavelength']==300][ablation['pulselegth']==3]"
   ]
  },
  {
   "cell_type": "code",
   "execution_count": 18,
   "metadata": {},
   "outputs": [
    {
     "name": "stdout",
     "output_type": "stream",
     "text": [
      "300.0 1.0 1.4444444444444444\n",
      "300.0 1.3010299956639813 nan\n",
      "300.0 1.6020599913279625 1.75\n",
      "300.0 2.0 1.5\n",
      "300.0 2.3010299956639813 2.8181818181818183\n",
      "300.0 2.6020599913279625 5.0\n",
      "300.0 3.0 4.142857142857143\n",
      "400.0 1.0 3.3636363636363633\n",
      "400.0 1.3010299956639813 5.208333333333334\n",
      "400.0 1.6020599913279625 5.333333333333334\n",
      "400.0 2.0 11.052631578947368\n",
      "400.0 2.3010299956639813 16.25\n",
      "400.0 2.6020599913279625 nan\n",
      "400.0 3.0 nan\n",
      "500.0 1.0 4.571428571428571\n",
      "500.0 1.3010299956639813 5.357142857142858\n",
      "500.0 1.6020599913279625 7.142857142857142\n",
      "500.0 2.0 11.304347826086957\n",
      "500.0 2.3010299956639813 nan\n",
      "500.0 2.6020599913279625 nan\n",
      "500.0 3.0 nan\n",
      "600.0 1.0 4.142857142857143\n",
      "600.0 1.3010299956639813 5.416666666666666\n",
      "600.0 1.6020599913279625 6.923076923076923\n",
      "600.0 2.0 11.666666666666668\n",
      "600.0 2.3010299956639813 nan\n",
      "600.0 2.6020599913279625 nan\n",
      "600.0 3.0 nan\n",
      "700.0 1.0 3.6666666666666665\n",
      "700.0 1.3010299956639813 5.689655172413793\n",
      "700.0 1.6020599913279625 6.153846153846153\n",
      "700.0 2.0 11.5\n",
      "700.0 2.3010299956639813 20.0\n",
      "700.0 2.6020599913279625 nan\n",
      "700.0 3.0 nan\n",
      "800.0 1.0 4.142857142857143\n",
      "800.0 1.3010299956639813 5.6521739130434785\n",
      "800.0 1.6020599913279625 7.5\n",
      "800.0 2.0 11.875\n",
      "800.0 2.3010299956639813 nan\n",
      "800.0 2.6020599913279625 nan\n",
      "800.0 3.0 nan\n",
      "900.0 1.0 3.5\n",
      "900.0 1.3010299956639813 5.833333333333334\n",
      "900.0 1.6020599913279625 7.307692307692308\n",
      "900.0 2.0 11.42857142857143\n",
      "900.0 2.3010299956639813 nan\n",
      "900.0 2.6020599913279625 nan\n",
      "900.0 3.0 nan\n",
      "1000.0 1.0 4.571428571428571\n",
      "1000.0 1.3010299956639813 5.476190476190476\n",
      "1000.0 1.6020599913279625 6.5\n",
      "1000.0 2.0 11.153846153846155\n",
      "1000.0 2.3010299956639813 nan\n",
      "1000.0 2.6020599913279625 nan\n",
      "1000.0 3.0 nan\n"
     ]
    },
    {
     "name": "stderr",
     "output_type": "stream",
     "text": [
      "/home/alex/anaconda3/lib/python3.7/site-packages/ipykernel_launcher.py:2: UserWarning: Boolean Series key will be reindexed to match DataFrame index.\n",
      "  \n"
     ]
    }
   ],
   "source": [
    "for WL in sorted(list(set(ablation['wavelength']))):\n",
    "    Groups300=ablation[ablation['wavelength']==WL][ablation['porosity']==0.5][['flux','pulselegth','fluence']]#.min()\n",
    "    for PL in sorted(list(set(Groups300['pulselegth']))):\n",
    "        sel=Groups300[Groups300['pulselegth']==PL]\n",
    "        #Fluenceflux10= sel[sel['flux']<10]\n",
    "        border1=sel[sel['flux']>=6].min()\n",
    "        border2=sel[sel['flux']<6].max()\n",
    "        #print (border1)\n",
    "        #print(border2)\n",
    "        alpha=(6-border2['flux'])/(border1['flux']-border2['flux'])\n",
    "        AblTH=alpha*border1['fluence']+(1-alpha)*border2['fluence']\n",
    "        print(WL, PL, AblTH)"
   ]
  },
  {
   "cell_type": "code",
   "execution_count": null,
   "metadata": {},
   "outputs": [],
   "source": []
  }
 ],
 "metadata": {
  "kernelspec": {
   "display_name": "Python 3",
   "language": "python",
   "name": "python3"
  },
  "language_info": {
   "codemirror_mode": {
    "name": "ipython",
    "version": 3
   },
   "file_extension": ".py",
   "mimetype": "text/x-python",
   "name": "python",
   "nbconvert_exporter": "python",
   "pygments_lexer": "ipython3",
   "version": "3.7.4"
  }
 },
 "nbformat": 4,
 "nbformat_minor": 2
}
