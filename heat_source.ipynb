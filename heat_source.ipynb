{
 "cells": [
  {
   "cell_type": "code",
   "execution_count": 1,
   "metadata": {},
   "outputs": [],
   "source": [
    "import numpy as np\n",
    "import matplotlib.pyplot as plt\n",
    "import matplotlib\n",
    "import pandas as pd\n",
    "import os\n",
    "from mpi4py import MPI\n",
    "from lammps import lammps\n",
    "import matplotlib.pyplot as plt\n",
    "from mpl_toolkits.mplot3d import axes3d, Axes3D \n",
    "#from lammps import pylammps"
   ]
  },
  {
   "cell_type": "markdown",
   "metadata": {},
   "source": [
    "dI/dx=-aI-bI*I\n",
    "\n",
    "\n",
    "I(x)=-a/b*exp(a/b*C)/(exp(a/b*C)-exp(ax))\n",
    "a from here\n",
    "https://www.pveducation.org/pvcdrom/materials/optical-properties-of-silicon\n",
    "\n",
    "b is from here\n",
    "https://aip.scitation.org/doi/full/10.1063/1.2737359\n",
    "from border cond I(0)=I0:\n",
    "C=b/a*ln(I0/(I0+a/b))\n",
    "I(z)=I0a/((I0b+a)exp(ax)-I0b)\n",
    "Fluence in J/cm2\n",
    "wavelength in nm\n",
    "pulselength in fs\n",
    "porosity in %\n",
    "zmax in nm\n",
    "Iabsorbed=in J/cm3\n",
    "to get \n",
    "Iabs per atom in ev\n",
    "IabsEV=Iabs*M(g/mol)/(ro(g/cm3)*Na(mol-1))*6.24*10^18(ev/J) = Ia*28/(2.3*6.02*10^23)*6.24*10^18=12.61*10^-5Iabs\n",
    "per fs in eV\n",
    "IabsEV= "
   ]
  },
  {
   "cell_type": "code",
   "execution_count": 2,
   "metadata": {},
   "outputs": [],
   "source": [
    "abs1=pd.read_csv('silicon_1photon_extinction.txt', sep='\\t') #cm-1\n",
    "abs2=pd.read_csv('silicon_2photon_absorbance.txt', sep=' ') #cm/GW\n",
    "heatcapacity=0.7 #(J/(g*K))\n",
    "density=2.3 #(g/cm3)\n",
    "def get1phabsorbance(wavelength, data):\n",
    "    return np.interp(wavelength, data['wavelength(nm)'], data['a(/cm)'])\n",
    "def get2phabsorbance(wavelength, data):\n",
    "    # in cm/W\n",
    "    return np.interp(wavelength, data['wavelength(nm)'], data['b(cm/GW)'])/1000000000\n",
    "def calculate_tempdistr(wavelength, fluence, pulselength, porosity, zmax):\n",
    "    T=[]\n",
    "    I0=fluence/(pulselength/10**15)\n",
    "    a=get1phabsorbance(wavelength, abs1)\n",
    "    b=get2phabsorbance(wavelength, abs2)\n",
    "    #H=-I0*a/((I0*b+a)*np.exp(-ax)-I0*b)\n",
    "    #C=b/a*np.log(I0/(I0+a/b))\n",
    "    \n",
    "    for i in range(zmax):\n",
    "        #I=-a/b*np.exp(a/b*C)/(np.exp(a/b*C)-np.exp(a*i*10**-7))\n",
    "        H=I0*a/((I0*b+a)*np.exp(a*i*10**-7)-I0*b)\n",
    "        Iabs=a*H+b*H*H\n",
    "        T.append(Iabs*(pulselength/10**15)*density/heatcapacity)\n",
    "        #T.append(Iabs*(pulselength/10**15))\n",
    "        #T.append(H)\n",
    "    return T\n",
    "def calculate_tempdistrstring(wavelength, fluence, pulselength, porosity, zmax):\n",
    "    I0=fluence/(pulselength/10**15)\n",
    "    a=get1phabsorbance(wavelength, abs1)\n",
    "    b=get2phabsorbance(wavelength, abs2)\n",
    "    I=str(I0*a)+'/('+str(I0*b+a)+'*exp({})'.format(str(a*10**(-7))+'*(5.43*{Size}-z))').format(Size=zmax)+'-{})'.format(I0*b)\n",
    "    #C=b/a*np.log(I0/(I0+a/b))\n",
    "    #I='('+str(-a/b*np.exp(a/b*C))+'/'+'('+str(np.exp(a/b*C))+'-'+ 'exp({})'.format(str(a*10**(-7))+'*(5.43*{Size}-z)').format(Size=zmax)+')'+')'\n",
    "    Iabs='('+str(a)+'*'+I+'+'+str(b)+'*'+I+'*'+I+')'+'*'+str(pulselength/10**15)\n",
    "    return Iabs\n",
    "def run(A):\n",
    "    return 'run ' + str(A)\n",
    "\n",
    "def createinputelectrontemp(filename ,nx,ny,nz,T0):\n",
    "    x_ = np.linspace(0., nx-1., nx)\n",
    "    y_ = np.linspace(0., ny-1., ny)\n",
    "    z_ = np.linspace(0., nz-1., nz)\n",
    "    x, y, z = np.meshgrid(x_, y_, z_, indexing='ij')\n",
    "    x=x.astype(int)\n",
    "    y=y.astype(int)\n",
    "    z=z.astype(int)\n",
    "    hdl2=open('inputstemp/'+filename,'w+')\n",
    "    for obj in zip(x.flatten(),y.flatten(),z.flatten()):\n",
    "        T=float(T0*np.exp(-obj[2]))\n",
    "        hdl2.write(str(obj[0])+' '+str(obj[1])+' '+str(obj[2])+' '+str(T)+'\\n')\n",
    "    hdl2.close()\n",
    "    return 0\n",
    "def calculate_heatstring(wavelength, fluence, pulselength, porosity, zmax):\n",
    "    I0=fluence/(pulselength/10**15)\n",
    "    a=get1phabsorbance(wavelength, abs1)\n",
    "    b=get2phabsorbance(wavelength, abs2)\n",
    "    C=b/a*np.log(I0/(I0+a/b))\n",
    "    I=str(I0*a)+'/('+str(I0*b+a)+'*exp({})'.format(str(a*10**(-7))+'*(5.43*{Size}-z)').format(Size=zmax)+'-{})'.format(I0*b)\n",
    "    #I='('+str(-a/b*np.exp(a/b*C))+'/'+'('+str(np.exp(a/b*C))+'-'+ 'exp({})'.format(str(a*10**(-7))+'*(5.43*{Size}-z)').format(Size=zmax)+')'+')'\n",
    "    Heatsource='('+str(a)+'*'+I+'+'+str(b)+'*'+I+'*'+I+')'\n",
    "    return Heatsource"
   ]
  },
  {
   "cell_type": "code",
   "execution_count": 3,
   "metadata": {},
   "outputs": [],
   "source": [
    "C_e=0.00144\n",
    "rho_e = 0.781\n",
    "kappa_e = 0\n",
    "gamma_p = 0.277 \n",
    "gamma_s = 0.2191\n",
    "v_0 = 0.0590\n",
    "Nx = 10\n",
    "Ny = 10\n",
    "Nz = 10\n",
    "N = 50"
   ]
  },
  {
   "cell_type": "code",
   "execution_count": 4,
   "metadata": {},
   "outputs": [],
   "source": [
    "def getscript( wavelength, fluence, pulselength,porosity,zmax, size, center, radius,inputfilename=''):\n",
    "    Cylindertop = 50\n",
    "    Cylinderbottom = 0\n",
    "    filename= inputfilename\n",
    "    fluxfilename='NPs_flux_output{wavelength}nm{fluence}Jcm2{pulselength}fs{porosity}por{size}nmsize'.format(wavelength=wavelength,\n",
    "    fluence=fluence, pulselength=pulselength, porosity=porosity,size=size)\n",
    "    moviename ='3d{wavelength}nm{fluence}Jcm2{pulselength}fs{porosity}por{size}nmsize.mpg'.format(wavelength=wavelength,\n",
    "    fluence=fluence, pulselength=pulselength, porosity=porosity,size=size)\n",
    "    flatmoviename='flat{wavelength}nm{fluence}Jcm2{pulselength}fs{porosity}por{size}nmsize.mpg'.format(wavelength=wavelength,\n",
    "    fluence=fluence, pulselength=pulselength, porosity=porosity,size=size)\n",
    "    slicemoviename='slice{wavelength}nm{fluence}Jcm2{pulselength}fs{porosity}por{size}nmsize.mpg'.format(wavelength=wavelength,\n",
    "    fluence=fluence, pulselength=pulselength, porosity=porosity,size=size)\n",
    "    flatslicemoviename='flatslice{wavelength}nm{fluence}Jcm2{pulselength}fs{porosity}por{size}nmsize.mpg'.format(wavelength=wavelength,\n",
    "    fluence=fluence, pulselength=pulselength, porosity=porosity,size=size)\n",
    "    #INIT\n",
    "    Initialize='''\n",
    "    units metal\n",
    "    atom_style atomic\n",
    "    atom_modify map array\n",
    "    dimension       3\n",
    "    boundary        p p f\n",
    "    '''\n",
    "    #DEFINE REGIONS\n",
    "    Regions=''' \n",
    "    lattice  diamond 5.43\n",
    "    region 1 block 0 {Size} 0 {Size} 1 50 units lattice\n",
    "    region 3 cylinder z {Center} {Center} {Radius} {Cylinderbottom} {Cylindertop} units lattice \n",
    "    region centerslice block {slicex1} {slicex2} 0 {Size} 1 100 units lattice\n",
    "    region todump block 0 {Size} 0 {Size} 52 100 units lattice\n",
    "    '''.format(Size=size, Center=center, Radius=radius, \n",
    "               Cylinderbottom=Cylinderbottom, Cylindertop=Cylindertop,slicex1=size//2-2, slicex2=size//2)\n",
    "    #CREATE ATOMS\n",
    "    Atomcreation=''' \n",
    "        create_atoms 1 region 1\n",
    "        '''\n",
    "    #OR LOAD THEM FROM FILE\n",
    "    Atomreading=''' \n",
    "        read_data {filename}\n",
    "        '''.format(filename=filename)\n",
    "    #ATOM GROUPS AND PARAMS\n",
    "    Atomconfig=''' \n",
    "    group allatoms type 1\n",
    "    group centeratoms1 region 3\n",
    "    variable Nn equal count(all,todump)\n",
    "    mass 1 28.0\n",
    "    pair_style tersoff \n",
    "    pair_coeff * * Si.tersoff  Si\n",
    "    neighbor 0.5 bin\n",
    "    neigh_modify every 1 delay 1 check yes \n",
    "    '''\n",
    "    #CALC CONFIG\n",
    "    Calcconf=''' \n",
    "    thermo 10\n",
    "    thermo_modify lost ignore flush yes\n",
    "    velocity allatoms create 300 12345\n",
    "    fix 2 all nve\n",
    "    fix 3 all ave/time 1 1 1 v_Nn file {fluxfilename}\n",
    "    compute coord all coord/atom cutoff 2.6\n",
    "    '''.format(fluxfilename='outputs/'+fluxfilename)\n",
    "    #DUMP CONFIG\n",
    "    Dumpoptions=''' \n",
    "    dump  8  all  movie  2  {moviename}  c_coord  type  zoom  1.0  adiam  2.2  axes  yes  0.8  0.02  view  60  -30  size  2048  2048\n",
    "    dump  9  all  movie  2  {flatmoviename}  c_coord  type  zoom  1.6  adiam  2.2  axes  yes  0.8  0.02  view  90  0  size  2048  2048\n",
    "    dump  12  all  movie  2 {slicemoviename}  c_coord  type  zoom  1.0  adiam  2.2  axes  yes  0.8  0.02  view  60  -30  size  2048  2048\n",
    "    dump  13  all  movie  2 {flatslicemoviename}  c_coord  type  zoom  1.6  adiam  2.2  axes  yes  0.8  0.02  view  90  0  size  2048  2048\n",
    "\n",
    "    dump_modify 8 amap 1 6 cf 0.0 3 min blue 0.6 yellow max green\n",
    "    dump_modify 9 amap 1 6 cf 0.0 3 min blue 0.6 yellow max green\n",
    "    dump_modify 12 amap 1 6 cf 0.0 3 min blue 0.6 yellow max green region centerslice\n",
    "    dump_modify 13 amap 1 6 cf 0.0 3 min blue 0.6 yellow max green region centerslice\n",
    "    '''.format(moviename='outputs/'+moviename,flatmoviename='outputs/'+flatmoviename,\n",
    "               slicemoviename='outputs/'+slicemoviename,flatslicemoviename='outputs/'+flatslicemoviename)\n",
    "    #CREATE PULSEVELOCITYDIST\n",
    "    #ev/ps\n",
    "    createpulse=''' \n",
    "    variable heatsource atom ({heatsource})*1.1*10e-16\n",
    "    fix 4 allatoms heat 1 v_heatsource region 3\n",
    "    '''.format(heatsource=calculate_heatstring(wavelength, fluence, pulselength, porosity, zmax))\n",
    "    #Removeheat\n",
    "    Removeheat='''\n",
    "    unfix 4\n",
    "    '''\n",
    "    #CREATE SCRIPT\n",
    "    script=Initialize+Regions+Atomreading+ Atomconfig +Calcconf + Dumpoptions+run(100)+createpulse+run(pulselength)+Removeheat+run(400)\n",
    "    return script"
   ]
  },
  {
   "cell_type": "code",
   "execution_count": 6,
   "metadata": {},
   "outputs": [],
   "source": [
    "inputfilename='microporSi50percent_1010100.csv'\n",
    "wavelength=300\n",
    "fluence=1\n",
    "pulselength=1000000 #fs\n",
    "porosity=0.5\n",
    "zmax=50\n",
    "Size = 10\n",
    "Center = 5.0\n",
    "Radius = 2.0"
   ]
  },
  {
   "cell_type": "code",
   "execution_count": 7,
   "metadata": {},
   "outputs": [
    {
     "name": "stdout",
     "output_type": "stream",
     "text": [
      "\n",
      "    units metal\n",
      "    atom_style atomic\n",
      "    atom_modify map array\n",
      "    dimension       3\n",
      "    boundary        p p f\n",
      "     \n",
      "    lattice  diamond 5.43\n",
      "    region 1 block 0 10 0 10 1 50 units lattice\n",
      "    region 3 cylinder z 5.0 5.0 2.0 0 50 units lattice \n",
      "    region centerslice block 3 5 0 10 1 100 units lattice\n",
      "    region todump block 0 10 0 10 52 100 units lattice\n",
      "     \n",
      "        read_data microporSi50percent_1010100.csv\n",
      "         \n",
      "    group allatoms type 1\n",
      "    group centeratoms1 region 3\n",
      "    variable Nn equal count(all,todump)\n",
      "    mass 1 28.0\n",
      "    pair_style tersoff \n",
      "    pair_coeff * * Si.tersoff  Si\n",
      "    neighbor 0.5 bin\n",
      "    neigh_modify every 1 delay 1 check yes \n",
      "     \n",
      "    thermo 10\n",
      "    thermo_modify lost ignore flush yes\n",
      "    velocity allatoms create 300 12345\n",
      "    fix 2 all nve\n",
      "    fix 3 all ave/time 1 1 1 v_Nn file outputs/NPs_flux_output300nm1Jcm21000fs0.5por10nmsize\n",
      "    compute coord all coord/atom cutoff 2.6\n",
      "     \n",
      "    dump  8  all  movie  2  outputs/3d300nm1Jcm21000fs0.5por10nmsize.mpg  c_coord  type  zoom  1.0  adiam  2.2  axes  yes  0.8  0.02  view  60  -30  size  2048  2048\n",
      "    dump  9  all  movie  2  outputs/flat300nm1Jcm21000fs0.5por10nmsize.mpg  c_coord  type  zoom  1.6  adiam  2.2  axes  yes  0.8  0.02  view  90  0  size  2048  2048\n",
      "    dump  12  all  movie  2 outputs/slice300nm1Jcm21000fs0.5por10nmsize.mpg  c_coord  type  zoom  1.0  adiam  2.2  axes  yes  0.8  0.02  view  60  -30  size  2048  2048\n",
      "    dump  13  all  movie  2 outputs/flatslice300nm1Jcm21000fs0.5por10nmsize.mpg  c_coord  type  zoom  1.6  adiam  2.2  axes  yes  0.8  0.02  view  90  0  size  2048  2048\n",
      "\n",
      "    dump_modify 8 amap 1 6 cf 0.0 3 min blue 0.6 yellow max green\n",
      "    dump_modify 9 amap 1 6 cf 0.0 3 min blue 0.6 yellow max green\n",
      "    dump_modify 12 amap 1 6 cf 0.0 3 min blue 0.6 yellow max green region centerslice\n",
      "    dump_modify 13 amap 1 6 cf 0.0 3 min blue 0.6 yellow max green region centerslice\n",
      "    run 100 \n",
      "    variable heatsource atom ((1730000.0*1.73e+18/(1731870.3628388*exp(0.173*(5.43*50-z))-1870.3628388000984)+1.8703628388000984e-09*1.73e+18/(1731870.3628388*exp(0.173*(5.43*50-z))-1870.3628388000984)*1.73e+18/(1731870.3628388*exp(0.173*(5.43*50-z))-1870.3628388000984)))*1.1*10e-16\n",
      "    fix 4 allatoms heat 1 v_heatsource region 3\n",
      "    run 1000\n",
      "    unfix 4\n",
      "    run 400\n"
     ]
    }
   ],
   "source": [
    "script=getscript(wavelength, fluence, 1000, porosity,zmax, Size, Center, Radius,inputfilename)\n",
    "for line in script.split('\\n'):\n",
    "    print (line)"
   ]
  },
  {
   "cell_type": "code",
   "execution_count": null,
   "metadata": {
    "scrolled": true
   },
   "outputs": [
    {
     "name": "stdout",
     "output_type": "stream",
     "text": [
      "300 10\n",
      "300 20\n",
      "300 40\n",
      "300 100\n"
     ]
    }
   ],
   "source": [
    "for wavelength in [300,400,500,600,700,800,900,1000]:\n",
    "    for pulselength in [10,20,40,100,200,400,1000]:\n",
    "        #hdl=open('torun/script_{}nm_{}Jcm2_{}fs_{}_por'.format(wavelength, fluence, pulselength, porosity),'w')\n",
    "        lmp = lammps()\n",
    "        print(wavelength,pulselength)\n",
    "        script=getscript(wavelength, fluence, pulselength, porosity,zmax, Size, Center, Radius,inputfilename)\n",
    "        for line in script.split('\\n'):\n",
    "        #hdl.write(script)\n",
    "        #hdl.close()\n",
    "            lmp.command(line)\n",
    "inputfilename='Si_1010100.csv'\n",
    "porosity=0\n",
    "for wavelength in [300,400,500,600,700,800,900,1000]:\n",
    "    for pulselength in [10,20,40,100,200,400,1000]:\n",
    "        #hdl=open('torun/script_{}nm_{}Jcm2_{}fs_{}_por'.format(wavelength, fluence, pulselength, porosity),'w')\n",
    "        lmp = lammps()\n",
    "        print(wavelength,pulselength)\n",
    "        script=getscript(wavelength, fluence, pulselength, porosity,zmax, Size, Center, Radius,inputfilename)\n",
    "        for line in script.split('\\n'):\n",
    "        #hdl.write(script)\n",
    "        #hdl.close()\n",
    "            lmp.command(line)"
   ]
  },
  {
   "cell_type": "code",
   "execution_count": 7,
   "metadata": {},
   "outputs": [],
   "source": [
    "#from mpi4py import MPI\n",
    "#comm = MPI.COMM_WORLD\n",
    "#print (\"Proc %d out of %d procs\" % (comm.Get_rank(),comm.Get_size()))"
   ]
  },
  {
   "cell_type": "code",
   "execution_count": 38,
   "metadata": {},
   "outputs": [
    {
     "data": {
      "text/plain": [
       "[<matplotlib.lines.Line2D at 0x7f78d2ca4910>]"
      ]
     },
     "execution_count": 38,
     "metadata": {},
     "output_type": "execute_result"
    }
   ],
   "source": [
    "x1=[]\n",
    "y1=[]\n",
    "y2=[]\n",
    "for k in range(300,1100, 10):\n",
    "    x1.append(k)\n",
    "    y1.append(get1phabsorbance(k,abs1))\n",
    "    y2.append(get2phabsorbance(k,abs2))\n",
    "#plt.plot(x1,y1)\n",
    "plt.plot(x1,y2)"
   ]
  },
  {
   "cell_type": "code",
   "execution_count": 61,
   "metadata": {},
   "outputs": [
    {
     "name": "stdout",
     "output_type": "stream",
     "text": [
      "Using matplotlib backend: Qt5Agg\n"
     ]
    },
    {
     "data": {
      "text/plain": [
       "<mpl_toolkits.mplot3d.art3d.Poly3DCollection at 0x7f78d1fd4e90>"
      ]
     },
     "execution_count": 61,
     "metadata": {},
     "output_type": "execute_result"
    }
   ],
   "source": [
    "%matplotlib auto\n",
    "Xsez=[]\n",
    "Ysez=[]\n",
    "Zsez=[]\n",
    "c=[]\n",
    "for filename in ['outputs/'+file for file in os.listdir('outputs') if file.startswith('NPs_')]:\n",
    "    try:\n",
    "        flux=pd.read_csv(filename,sep=' ', header=2).iloc[800]['0.1']\n",
    "        wavelength=float(filename.split('output')[-1].split('nm')[-3])\n",
    "        fluence=float(filename.split('J')[-2].split('nm')[-1])\n",
    "        pulselength=float(filename.split('fs')[-2].split('cm2')[-1])\n",
    "        porous=float(filename.split('por')[-2].split('fs')[-1])\n",
    "        \n",
    "        if pulselength>0:\n",
    "            if wavelength>0 and porous<0.1:\n",
    "                Xsez.append(pulselength)#np.log(pulselength))\n",
    "                Ysez.append(wavelength)\n",
    "                Zsez.append(flux)\n",
    "                c.append(porous)\n",
    "    except:\n",
    "        None\n",
    "    #print(flux,wavelength,pulselength)\n",
    "\n",
    "\n",
    "fig = plt.figure()\n",
    "ax = Axes3D(fig) \n",
    "#ax.scatter(np.log(Xsez),Ysez,Zsez, c=c)\n",
    "ax.plot_trisurf(np.log(Xsez),Ysez,Zsez)\n",
    "#ax = Axes3D(fig) \n",
    "#ax.scatter(np.array(Xsez), np.array(Ysez), np.array(Zsez), 1, cmap='viridis', edgecolor='none')\n",
    "#ax.set_title('surface');"
   ]
  },
  {
   "cell_type": "code",
   "execution_count": 55,
   "metadata": {},
   "outputs": [],
   "source": [
    "A=list(set(np.log(Xsez)))\n",
    "A.sort()\n",
    "A=np.array(A)\n",
    "B=list(set(Ysez))\n",
    "B.sort()\n",
    "B=np.array(B)"
   ]
  },
  {
   "cell_type": "code",
   "execution_count": null,
   "metadata": {},
   "outputs": [],
   "source": [
    "x_ = np.linspace(0., nx-1., nx)\n",
    "y_ = np.linspace(0., ny-1., ny)\n",
    "z_ = np.linspace(0., nz-1., nz)\n",
    "x, y, z = np.meshgrid(x_, y_, z_, indexing='ij')\n",
    "x=x.astype(int)\n",
    "y=y.astype(int)\n",
    "z=z.astype(int)\n",
    "    #hdl2=open('inputstemp/'+filename,'w+')\n",
    "for obj in zip(x.flatten(),y.flatten(),z.flatten()):\n",
    "    #T=T0*np.exp(-z)\n",
    "    #hdl2.write(str(obj[0])+str(obj[1])+str(obj[2])+str(T)+'\\n')\n",
    "    A=0"
   ]
  },
  {
   "cell_type": "code",
   "execution_count": null,
   "metadata": {},
   "outputs": [],
   "source": [
    "wavelength=300\n",
    "fluence=0.1\n",
    "createscript('in.porousfalse_{}nm{}Jcm2'.format(wavelength,fluence), size=100, porous=True, fluence=fluence, alpha=get1phabsorbance(wavelength, abs1), beta=get2phabsorbance(wavelength, abs2))"
   ]
  },
  {
   "cell_type": "code",
   "execution_count": null,
   "metadata": {},
   "outputs": [],
   "source": [
    "get1phabsorbance(400, abs1)"
   ]
  },
  {
   "cell_type": "code",
   "execution_count": null,
   "metadata": {},
   "outputs": [],
   "source": [
    "for scriptname in os.listdir('scripts'):\n",
    "    print ('CALL lmp_serial -in {} -pk omp 4 -sf omp'.format(scriptname))"
   ]
  },
  {
   "cell_type": "code",
   "execution_count": null,
   "metadata": {},
   "outputs": [],
   "source": [
    "plt.plot(calculate_tempdistr(300, 0.1, 1000000, 0.1, 100))"
   ]
  },
  {
   "cell_type": "code",
   "execution_count": null,
   "metadata": {},
   "outputs": [],
   "source": []
  }
 ],
 "metadata": {
  "kernelspec": {
   "display_name": "Python 3",
   "language": "python",
   "name": "python3"
  },
  "language_info": {
   "codemirror_mode": {
    "name": "ipython",
    "version": 3
   },
   "file_extension": ".py",
   "mimetype": "text/x-python",
   "name": "python",
   "nbconvert_exporter": "python",
   "pygments_lexer": "ipython3",
   "version": "3.7.4"
  }
 },
 "nbformat": 4,
 "nbformat_minor": 2
}
