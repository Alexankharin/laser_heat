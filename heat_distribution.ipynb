{
 "cells": [
  {
   "cell_type": "code",
   "execution_count": 1,
   "metadata": {},
   "outputs": [],
   "source": [
    "import numpy as np\n",
    "import matplotlib.pyplot as plt\n",
    "import matplotlib\n",
    "import pandas as pd\n",
    "import os\n",
    "from mpi4py import MPI\n",
    "from lammps import lammps\n",
    "import matplotlib.pyplot as plt\n",
    "from mpl_toolkits.mplot3d import axes3d, Axes3D \n",
    "#from lammps import pylammps"
   ]
  },
  {
   "cell_type": "markdown",
   "metadata": {},
   "source": [
    "dI/dx=-aI-bI*I\n",
    "\n",
    "\n",
    "I(x)=-a/b*exp(a/b*C)/(exp(a/b*C)-exp(ax))\n",
    "a from here\n",
    "https://www.pveducation.org/pvcdrom/materials/optical-properties-of-silicon\n",
    "\n",
    "b is from here\n",
    "https://aip.scitation.org/doi/full/10.1063/1.2737359\n",
    "from border cond I(0)=I0:\n",
    "C=1/a*ln(I0/(I0*b+a))\n",
    "Fluence in J/cm2\n",
    "wavelength in nm\n",
    "pulselength in fs\n",
    "porosity in %\n",
    "zmax in nm"
   ]
  },
  {
   "cell_type": "code",
   "execution_count": 2,
   "metadata": {},
   "outputs": [],
   "source": [
    "abs1=pd.read_csv('silicon_1photon_extinction.txt', sep='\\t') #cm-1\n",
    "abs2=pd.read_csv('silicon_2photon_absorbance.txt', sep=' ') #cm/GW\n",
    "heatcapacity=0.7 #(J/(g*K))\n",
    "density=2.3 #(g/cm3)\n",
    "def get1phabsorbance(wavelength, data):\n",
    "    return np.interp(wavelength, data['wavelength(nm)'], data['a(/cm)'])\n",
    "def get2phabsorbance(wavelength, data):\n",
    "    # in cm/W\n",
    "    return np.interp(wavelength, data['wavelength(nm)'], data['b(cm/GW)'])/1000000\n",
    "def calculate_tempdistr(wavelength, fluence, pulselength, porosity, zmax):\n",
    "    T=[]\n",
    "    I0=fluence/(pulselength/10**15)\n",
    "    a=get1phabsorbance(wavelength, abs1)*(1-porosity)\n",
    "    b=get2phabsorbance(wavelength, abs2)/100000000000\n",
    "    C=1/a*np.log(I0/(I0*b+a))\n",
    "    for i in range(zmax):\n",
    "        I=-a*np.exp(a*C)/(b*np.exp(a*C)-np.exp(a*i*10**-7))\n",
    "        Iabs=a*I+b*I*I\n",
    "        T.append(Iabs*(pulselength/10**15)/(density*(1-porosity))/heatcapacity)\n",
    "        #T.append(Iabs*(pulselength/10**15))\n",
    "    return T\n",
    "\n",
    "\n",
    "def run(A):\n",
    "    return 'run ' + str(A)\n",
    "\n",
    "def createinputelectrontemp(filename ,nx,ny,nz,T0):\n",
    "    x_ = np.linspace(0., nx-1., nx)\n",
    "    y_ = np.linspace(0., ny-1., ny)\n",
    "    z_ = np.linspace(0., nz-1., nz)\n",
    "    x, y, z = np.meshgrid(x_, y_, z_, indexing='ij')\n",
    "    x=x.astype(int) \n",
    "    y=y.astype(int)\n",
    "    z=z.astype(int)\n",
    "    hdl2=open('inputstemp/'+filename,'w+')\n",
    "    for obj in zip(x.flatten(),y.flatten(),z.flatten()):\n",
    "        T=float(T0*np.exp(-obj[2]))\n",
    "        hdl2.write(str(obj[0])+' '+str(obj[1])+' '+str(obj[2])+' '+str(T)+'\\n')\n",
    "    hdl2.close()\n",
    "    return 0\n",
    "def calculate_heatstring(wavelength, fluence, pulselength, porosity, zmax):\n",
    "    I0=fluence/(pulselength/10**15)\n",
    "    a=get1phabsorbance(wavelength, abs1)\n",
    "    b=get2phabsorbance(wavelength, abs2)\n",
    "    C=1/a*np.log(I0/(I0*b+a))\n",
    "    I='('+str(-a*np.exp(a*C))+'/'+'('+str(b*np.exp(a*C))+'-'+ 'exp({})'.format(str(a*10**(-7))+'*(5.43*{Size}-z)').format(Size=zmax)+')'+')'\n",
    "    Heatsource='('+str(a)+'*'+I+'+'+str(b)+'*'+I+'*'+I+')'\n",
    "    return Heatsource"
   ]
  },
  {
   "cell_type": "code",
   "execution_count": 3,
   "metadata": {},
   "outputs": [],
   "source": [
    "C_e=0.00144\n",
    "rho_e = 0.781\n",
    "kappa_e = 0\n",
    "gamma_p = 0.277 \n",
    "gamma_s = 0.2191\n",
    "v_0 = 0.0590\n",
    "Nx = 10\n",
    "Ny = 10\n",
    "Nz = 10\n",
    "N = 50"
   ]
  },
  {
   "cell_type": "code",
   "execution_count": 4,
   "metadata": {},
   "outputs": [],
   "source": [
    "def getscript( wavelength, fluence, pulselength,porosity,zmax, size, center, radius,inputfilename='', porepos='sphere'):\n",
    "    Cylindertop = 50\n",
    "    Cylinderbottom = 0\n",
    "    filename= inputfilename\n",
    "    fluxfilename='NPs_{porepos}_flux_output{wavelength}nm{fluence}Jcm2{pulselength}fs{porosity}por{size}nmsize'.format(porepos=porepos,wavelength=wavelength,\n",
    "    fluence=fluence, pulselength=pulselength, porosity=porosity,size=size)\n",
    "    moviename ='3d_{porepos}_{wavelength}nm{fluence}Jcm2{pulselength}fs{porosity}por{size}nmsize.mpg'.format(porepos=porepos,wavelength=wavelength,\n",
    "    fluence=fluence, pulselength=pulselength, porosity=porosity,size=size)\n",
    "    flatmoviename='flat_{porepos}_{wavelength}nm{fluence}Jcm2{pulselength}fs{porosity}por{size}nmsize.mpg'.format(porepos=porepos,wavelength=wavelength,\n",
    "    fluence=fluence, pulselength=pulselength, porosity=porosity,size=size)\n",
    "    slicemoviename='slice_{porepos}_{wavelength}nm{fluence}Jcm2{pulselength}fs{porosity}por{size}nmsize.mpg'.format(porepos=porepos,wavelength=wavelength,\n",
    "    fluence=fluence, pulselength=pulselength, porosity=porosity,size=size)\n",
    "    flatslicemoviename='flatslice_{porepos}_{wavelength}nm{fluence}Jcm2{pulselength}fs{porosity}por{size}nmsize.mpg'.format(porepos=porepos,wavelength=wavelength,\n",
    "    fluence=fluence, pulselength=pulselength, porosity=porosity,size=size)\n",
    "    desiredtemp=calculate_tempdistr(wavelength, fluence, pulselength, porosity, zmax)\n",
    "    #INIT\n",
    "    Initialize='''\n",
    "    units metal\n",
    "    atom_style atomic\n",
    "    atom_modify map array\n",
    "    dimension       3\n",
    "    boundary        p p f\n",
    "    '''\n",
    "    #DEFINE REGIONS\n",
    "    #region 3 cylinder z {Center} {Center} {Radius} {Cylinderbottom} {Cylindertop} units lattice \n",
    "    Regions=''' \n",
    "    lattice  diamond 5.43\n",
    "    region 1 block 0 {Size} 0 {Size} 1 50 units lattice\n",
    "    region 3 block 0 {Size} 0 {Size} 1 50 units lattice\n",
    "    region centerslice block {slicex1} {slicex2} 0 {Size} 1 100 units lattice\n",
    "    region todump block 0 {Size} 0 {Size} 51 100 units lattice\n",
    "    \n",
    "    '''.format(Size=size, Center=center, Radius=radius, \n",
    "               Cylinderbottom=Cylinderbottom, Cylindertop=Cylindertop,slicex1=size//2-2, slicex2=size//2)\n",
    "    Regionslayers=''.join(['''\n",
    "    region l{i} block 0 {Size} 0 {Size} {ans} {ans2} units lattice\n",
    "    '''.format(i=i, ans=50-i,ans2=50-i+3, Size=50) for i in range (2,50,2)])\n",
    "    \n",
    "    #CREATE ATOMS\n",
    "    Atomcreation=''' \n",
    "        create_atoms 1 region 1\n",
    "        '''\n",
    "    #OR LOAD THEM FROM FILE\n",
    "    Atomreading=''' \n",
    "        read_data {filename}\n",
    "        '''.format(filename=filename)\n",
    "    #ATOM GROUPS AND PARAMS\n",
    "    Atomconfig=''' \n",
    "    group allatoms type 1\n",
    "    group centeratoms1 region 3\n",
    "    variable Nn equal count(all,todump)\n",
    "    mass 1 28.0\n",
    "    pair_style tersoff \n",
    "    pair_coeff * * Si.tersoff  Si\n",
    "    neighbor 0.5 bin\n",
    "    neigh_modify every 1 delay 1 check yes \n",
    "    '''\n",
    "    #layered atom groups\n",
    "    layeredgroups=''.join(['''\n",
    "    group layeratoms{i} region l{i}\n",
    "    '''.format(i=i) for i in range (2,50,2)])\n",
    "    \n",
    "    #CALC CONFIG\n",
    "    Calcconf=''' \n",
    "    thermo 10\n",
    "    thermo_modify lost ignore flush yes\n",
    "    velocity allatoms create 300 12345\n",
    "    fix 2 all nve\n",
    "    fix 3 all ave/time 1 1 1 v_Nn file {fluxfilename}\n",
    "    compute coord all coord/atom cutoff 2.6\n",
    "    '''.format(fluxfilename='outputs/'+fluxfilename)\n",
    "    \n",
    "    #DUMP CONFIG\n",
    "    \n",
    "    Dumpoptions=''' \n",
    "    dump  8  all  movie  2  {moviename}  c_coord  type  zoom  1.0  adiam  2.2  axes  yes  0.8  0.02  view  60  -30  size  2048  2048\n",
    "    dump  9  all  movie  2  {flatmoviename}  c_coord  type  zoom  1.6  adiam  2.2  axes  yes  0.8  0.02  view  90  0  size  2048  2048\n",
    "    dump  12  all  movie  2 {slicemoviename}  c_coord  type  zoom  1.0  adiam  2.2  axes  yes  0.8  0.02  view  60  -30  size  2048  2048\n",
    "    dump  13  all  movie  2 {flatslicemoviename}  c_coord  type  zoom  1.6  adiam  2.2  axes  yes  0.8  0.02  view  90  0  size  2048  2048\n",
    "\n",
    "    dump_modify 8 amap 1 6 cf 0.0 3 min blue 0.6 yellow max green\n",
    "    dump_modify 9 amap 1 6 cf 0.0 3 min blue 0.6 yellow max green\n",
    "    dump_modify 12 amap 1 6 cf 0.0 3 min blue 0.6 yellow max green region centerslice\n",
    "    dump_modify 13 amap 1 6 cf 0.0 3 min blue 0.6 yellow max green region centerslice\n",
    "    '''.format(moviename='outputs/'+moviename,flatmoviename='outputs/'+flatmoviename,\n",
    "               slicemoviename='outputs/'+slicemoviename,flatslicemoviename='outputs/'+flatslicemoviename)\n",
    "    Dumpoptions2=''' \n",
    "    dump  13  all  movie  2 {flatslicemoviename}  c_coord  type  zoom  1.6  adiam  2.2  axes  yes  0.8  0.02  view  90  0  size  2048  2048\n",
    "    dump_modify 13 amap 1 6 cf 0.0 3 min blue 0.6 yellow max green region centerslice\n",
    "    '''.format(moviename='outputs/'+moviename,flatmoviename='outputs/'+flatmoviename,\n",
    "               slicemoviename='outputs/'+slicemoviename,flatslicemoviename='outputs/'+flatslicemoviename)\n",
    "    #CREATE PULSEVELOCITYDIST\n",
    "    desiredtemps=calculate_tempdistr(wavelength, fluence, pulselength, porosity, zmax)\n",
    "    #print(wavelength, fluence, pulselength, porosity, zmax)\n",
    "    createpulse=''.join(['''\n",
    "    fix {j} layeratoms{i} temp/rescale 1 {desiredtemp} {desiredtemp} 0.05 1.0\n",
    "    '''.format(i=i,j=i+100,desiredtemp=int(desiredtemps[i-2]))for i in range (2,50,2)])\n",
    "    #print(desiredtemp)\n",
    "    #REMOVE PULSE\n",
    "    unfixtemps=''.join(['''\n",
    "    unfix {j}\n",
    "    '''.format(j=i+100) for i in range (2,50,2)])\n",
    "    #createpulse=''' \n",
    "    #velocity centeratoms1 create 1 12345\n",
    "    #variable vxprof atom vx*sqrt({temp})\n",
    "    #variable vyprof atom vy*sqrt({temp})\n",
    "    #variable vzprof atom vz*sqrt({temp})\n",
    "    #velocity centeratoms1 set v_vxprof v_vyprof v_vzprof\n",
    "    #'''.format(temp=calculate_tempdistrstring(wavelength, fluence, pulselength, porosity, zmax))\n",
    "    #CREATE SCRIPT\n",
    "    script=(Initialize+Regions+Regionslayers+Atomreading+layeredgroups+Atomconfig +Calcconf +\n",
    "    run(100)+createpulse+run(3)+unfixtemps+run(1000))\n",
    "    return script"
   ]
  },
  {
   "cell_type": "code",
   "execution_count": 7,
   "metadata": {},
   "outputs": [],
   "source": [
    "desiredtemps=calculate_tempdistr(wavelength=300, fluence=1, pulselength=1000, porosity=0.5, zmax=50)\n",
    "#calculate_tempdistr(wavelength=300, fluence=1, pulselength=pulselength, porosity=porosity, zmax=zmax)"
   ]
  },
  {
   "cell_type": "code",
   "execution_count": 15,
   "metadata": {},
   "outputs": [
    {
     "data": {
      "text/plain": [
       "(0, 56374.28175521086)"
      ]
     },
     "execution_count": 15,
     "metadata": {},
     "output_type": "execute_result"
    },
    {
     "data": {
      "image/png": "[encoded data removed]",
      "text/plain": [
       "<Figure size 432x288 with 1 Axes>"
      ]
     },
     "metadata": {
      "needs_background": "light"
     },
     "output_type": "display_data"
    }
   ],
   "source": [
    "for pulselength in [1000000000000000]:\n",
    "    desiredtemp=calculate_tempdistr(wavelength=600, fluence=5, pulselength=pulselength, porosity=0.5, zmax=50)\n",
    "    plt.plot([a for a in desiredtemp],label='600 nm 5J/cm2')\n",
    "for pulselength in [1000000000000000]:\n",
    "    desiredtemp=calculate_tempdistr(wavelength=300, fluence=0.05, pulselength=pulselength, porosity=0.5, zmax=50)\n",
    "    plt.plot([a for a in desiredtemp],label='300 nm 0.05J/cm2')\n",
    "plt.legend()\n",
    "plt.xlabel('depth, nm')\n",
    "plt.ylabel('T, K')\n",
    "plt.ylim(0)"
   ]
  },
  {
   "cell_type": "code",
   "execution_count": 10,
   "metadata": {},
   "outputs": [
    {
     "ename": "NameError",
     "evalue": "name 'pulselength' is not defined",
     "output_type": "error",
     "traceback": [
      "\u001b[0;31m---------------------------------------------------------------------------\u001b[0m",
      "\u001b[0;31mNameError\u001b[0m                                 Traceback (most recent call last)",
      "\u001b[0;32m<ipython-input-10-c0ef9dd94ef1>\u001b[0m in \u001b[0;36m<module>\u001b[0;34m\u001b[0m\n\u001b[1;32m      1\u001b[0m \u001b[0;32mfor\u001b[0m \u001b[0mporosity\u001b[0m \u001b[0;32min\u001b[0m \u001b[0;34m[\u001b[0m\u001b[0;36m0.0\u001b[0m\u001b[0;34m,\u001b[0m\u001b[0;36m0.2\u001b[0m\u001b[0;34m,\u001b[0m\u001b[0;36m0.3\u001b[0m\u001b[0;34m,\u001b[0m\u001b[0;36m0.4\u001b[0m\u001b[0;34m,\u001b[0m\u001b[0;36m0.5\u001b[0m\u001b[0;34m,\u001b[0m\u001b[0;36m0.6\u001b[0m\u001b[0;34m,\u001b[0m\u001b[0;36m0.7\u001b[0m\u001b[0;34m,\u001b[0m\u001b[0;36m0.8\u001b[0m\u001b[0;34m,\u001b[0m\u001b[0;36m0.9\u001b[0m\u001b[0;34m]\u001b[0m\u001b[0;34m:\u001b[0m\u001b[0;34m\u001b[0m\u001b[0;34m\u001b[0m\u001b[0m\n\u001b[0;32m----> 2\u001b[0;31m     \u001b[0mdesiredtemp\u001b[0m\u001b[0;34m=\u001b[0m\u001b[0mcalculate_tempdistr\u001b[0m\u001b[0;34m(\u001b[0m\u001b[0mwavelength\u001b[0m\u001b[0;34m=\u001b[0m\u001b[0;36m300\u001b[0m\u001b[0;34m,\u001b[0m \u001b[0mfluence\u001b[0m\u001b[0;34m=\u001b[0m\u001b[0;36m1\u001b[0m\u001b[0;34m,\u001b[0m \u001b[0mpulselength\u001b[0m\u001b[0;34m=\u001b[0m\u001b[0mpulselength\u001b[0m\u001b[0;34m,\u001b[0m \u001b[0mporosity\u001b[0m\u001b[0;34m=\u001b[0m\u001b[0mporosity\u001b[0m\u001b[0;34m,\u001b[0m \u001b[0mzmax\u001b[0m\u001b[0;34m=\u001b[0m\u001b[0;36m50\u001b[0m\u001b[0;34m)\u001b[0m\u001b[0;34m\u001b[0m\u001b[0;34m\u001b[0m\u001b[0m\n\u001b[0m\u001b[1;32m      3\u001b[0m     \u001b[0mplt\u001b[0m\u001b[0;34m.\u001b[0m\u001b[0mplot\u001b[0m\u001b[0;34m(\u001b[0m\u001b[0;34m[\u001b[0m\u001b[0mnp\u001b[0m\u001b[0;34m.\u001b[0m\u001b[0mlog10\u001b[0m\u001b[0;34m(\u001b[0m\u001b[0ma\u001b[0m\u001b[0;34m)\u001b[0m \u001b[0;32mfor\u001b[0m \u001b[0ma\u001b[0m \u001b[0;32min\u001b[0m \u001b[0mdesiredtemp\u001b[0m\u001b[0;34m]\u001b[0m\u001b[0;34m,\u001b[0m \u001b[0mlabel\u001b[0m\u001b[0;34m=\u001b[0m\u001b[0mstr\u001b[0m\u001b[0;34m(\u001b[0m\u001b[0mporosity\u001b[0m\u001b[0;34m)\u001b[0m\u001b[0;34m)\u001b[0m\u001b[0;34m\u001b[0m\u001b[0;34m\u001b[0m\u001b[0m\n\u001b[1;32m      4\u001b[0m \u001b[0mplt\u001b[0m\u001b[0;34m.\u001b[0m\u001b[0mlegend\u001b[0m\u001b[0;34m(\u001b[0m\u001b[0;34m)\u001b[0m\u001b[0;34m\u001b[0m\u001b[0;34m\u001b[0m\u001b[0m\n",
      "\u001b[0;31mNameError\u001b[0m: name 'pulselength' is not defined"
     ]
    }
   ],
   "source": [
    "for porosity in [0.0,0.2,0.3,0.4,0.5,0.6,0.7,0.8,0.9]:\n",
    "    desiredtemp=calculate_tempdistr(wavelength=300, fluence=1, pulselength=pulselength, porosity=porosity, zmax=50)\n",
    "    plt.plot([np.log10(a) for a in desiredtemp], label=str(porosity))\n",
    "plt.legend()"
   ]
  },
  {
   "cell_type": "code",
   "execution_count": 13,
   "metadata": {},
   "outputs": [],
   "source": [
    "'''script=getscript(wavelength, fluence, pulselength, porosity,zmax, Size, Center, Radius,inputfilename)\n",
    "hdl=open('torun/script_{}nm_{}Jcm2_{}fs_{}_por'.format(wavelength, fluence, pulselength, porosity),'w')\n",
    "hdl.write(script)\n",
    "hdl.close()'''"
   ]
  },
  {
   "cell_type": "code",
   "execution_count": 2,
   "metadata": {},
   "outputs": [
    {
     "data": {
      "text/plain": [
       "'siliconmesopores0.0.csv'"
      ]
     },
     "execution_count": 2,
     "metadata": {},
     "output_type": "execute_result"
    }
   ],
   "source": [
    "inputfilename"
   ]
  },
  {
   "cell_type": "code",
   "execution_count": 5,
   "metadata": {},
   "outputs": [],
   "source": [
    "#porepos='sphere'\n",
    "#inputfilename='Si_1010100.csv'\n",
    "#inputfilename='microporSi50percent_1010100.csv'\n",
    "inputfilename='Si_1010100.csv'\n",
    "runscriptstring=[]\n",
    "wavelength=600\n",
    "porosity=0.0\n",
    "zmax=50\n",
    "Size = 10\n",
    "Center = 5.0\n",
    "Radius = 2.0\n",
    "fluence=1\n",
    "pulselength=10 #fs\n",
    "torun=''\n",
    "for porepos in['1_2nmpores']:\n",
    "    #for porosity in [0.5,0.8,0.0]:\n",
    "    for porosity in [0.0,0.1,0.2,0.3,0.4,0.5,0.6,0.7,0.8,0.9]:\n",
    "        if porepos=='1_2nmpores':\n",
    "            inputfilename='silicon1_2nmpores{}.csv'.format(porosity)\n",
    "        if porepos=='1_6nmpores':\n",
    "            inputfilename='silicon1_6nmpores{}.csv'.format(porosity)\n",
    "        if porepos=='1_8nmpores':\n",
    "            inputfilename='silicon1_8nmpores{}.csv'.format(porosity)\n",
    "        if porepos=='2_5nmpores':\n",
    "            inputfilename='silicon2_5nmpores{}.csv'.format(porosity)\n",
    "        if porepos=='3nmpores':\n",
    "            inputfilename='silicon3nmpores{}.csv'.format(porosity)\n",
    "        if porepos=='2nmpores':\n",
    "            inputfilename='silicon2nmpores{}.csv'.format(porosity)\n",
    "        if porepos=='mesosphere':\n",
    "            inputfilename='siliconmesopores{}.csv'.format(porosity)\n",
    "        if porepos=='sphere':\n",
    "            inputfilename='siliconpores{}.csv'.format(porosity)\n",
    "        if porepos=='hor':\n",
    "            inputfilename='siliconhorizontalpores{}.csv'.format(porosity)\n",
    "        if porepos=='vert':\n",
    "            inputfilename='siliconverticalpores{}.csv'.format(porosity)\n",
    "        for fluence in [0.001, 0.005,0.009]:\n",
    "            for wavelength in [300]:\n",
    "                for pulselength in [1000]:\n",
    "                    #for fluence in \n",
    "                    script=getscript(wavelength, fluence, pulselength, porosity,zmax, Size, Center, Radius,inputfilename,porepos=porepos)\n",
    "                    hdl=open('torun/script_{}nm_{}Jcm2_{}fs_{}_{}'.format(wavelength, \"{0:.4f}\".format(fluence), pulselength, porosity,porepos),'w')\n",
    "                    hdl.write(script)\n",
    "                    hdl.close()\n",
    "                    torun=torun+('mpirun -np 3 lmp_mpi -in script_{}nm_{}Jcm2_{}fs_{}_{}'.format(wavelength, \"{0:.4f}\".format(fluence), pulselength, porosity,porepos) + '\\n')"
   ]
  },
  {
   "cell_type": "code",
   "execution_count": 6,
   "metadata": {},
   "outputs": [],
   "source": [
    "hdl=open('torun/allscripts.sh','w')\n",
    "hdl.write(torun)\n",
    "hdl.close()"
   ]
  },
  {
   "cell_type": "code",
   "execution_count": 9,
   "metadata": {},
   "outputs": [
    {
     "name": "stdout",
     "output_type": "stream",
     "text": [
      "300 10\n"
     ]
    },
    {
     "ename": "NameError",
     "evalue": "name 'lmp' is not defined",
     "output_type": "error",
     "traceback": [
      "\u001b[0;31m---------------------------------------------------------------------------\u001b[0m",
      "\u001b[0;31mNameError\u001b[0m                                 Traceback (most recent call last)",
      "\u001b[0;32m<ipython-input-9-4386404a4e28>\u001b[0m in \u001b[0;36m<module>\u001b[0;34m\u001b[0m\n\u001b[1;32m      6\u001b[0m         \u001b[0mscript\u001b[0m\u001b[0;34m=\u001b[0m\u001b[0mgetscript\u001b[0m\u001b[0;34m(\u001b[0m\u001b[0mwavelength\u001b[0m\u001b[0;34m,\u001b[0m \u001b[0mfluence\u001b[0m\u001b[0;34m,\u001b[0m \u001b[0mpulselength\u001b[0m\u001b[0;34m,\u001b[0m \u001b[0mporosity\u001b[0m\u001b[0;34m,\u001b[0m\u001b[0mzmax\u001b[0m\u001b[0;34m,\u001b[0m \u001b[0mSize\u001b[0m\u001b[0;34m,\u001b[0m \u001b[0mCenter\u001b[0m\u001b[0;34m,\u001b[0m \u001b[0mRadius\u001b[0m\u001b[0;34m,\u001b[0m\u001b[0minputfilename\u001b[0m\u001b[0;34m)\u001b[0m\u001b[0;34m\u001b[0m\u001b[0;34m\u001b[0m\u001b[0m\n\u001b[1;32m      7\u001b[0m         \u001b[0;32mfor\u001b[0m \u001b[0mline\u001b[0m \u001b[0;32min\u001b[0m \u001b[0mscript\u001b[0m\u001b[0;34m.\u001b[0m\u001b[0msplit\u001b[0m\u001b[0;34m(\u001b[0m\u001b[0;34m'\\n'\u001b[0m\u001b[0;34m)\u001b[0m\u001b[0;34m:\u001b[0m\u001b[0;34m\u001b[0m\u001b[0;34m\u001b[0m\u001b[0m\n\u001b[0;32m----> 8\u001b[0;31m             \u001b[0mlmp\u001b[0m\u001b[0;34m.\u001b[0m\u001b[0mcommand\u001b[0m\u001b[0;34m(\u001b[0m\u001b[0mline\u001b[0m\u001b[0;34m)\u001b[0m\u001b[0;34m\u001b[0m\u001b[0;34m\u001b[0m\u001b[0m\n\u001b[0m\u001b[1;32m      9\u001b[0m \u001b[0minputfilename\u001b[0m\u001b[0;34m=\u001b[0m\u001b[0;34m'Si_1010100.csv'\u001b[0m\u001b[0;34m\u001b[0m\u001b[0;34m\u001b[0m\u001b[0m\n\u001b[1;32m     10\u001b[0m \u001b[0mporosity\u001b[0m\u001b[0;34m=\u001b[0m\u001b[0;36m0\u001b[0m\u001b[0;34m\u001b[0m\u001b[0;34m\u001b[0m\u001b[0m\n",
      "\u001b[0;31mNameError\u001b[0m: name 'lmp' is not defined"
     ]
    }
   ],
   "source": [
    "#inputfilename='Si_1010100.csv'\n",
    "for wavelength in [300,400,500,600,700,800,900,1000]:\n",
    "    for pulselength in [10,20,40,100]:#,200,400,1000,2000,4000,10000, 20000,40000,100000, 200000,400000,1000000]:\n",
    "        #lmp = lammps()\n",
    "        print(wavelength,pulselength)\n",
    "        script=getscript(wavelength, fluence, pulselength, porosity,zmax, Size, Center, Radius,inputfilename)\n",
    "        for line in script.split('\\n'):\n",
    "            lmp.command(line)\n",
    "inputfilename='Si_1010100.csv'\n",
    "porosity=0\n",
    "for wavelength in [300,400,500,600,700,800,900,1000]:\n",
    "    for pulselength in [10,20,40,100]:#,200,400,1000,2000,4000,10000, 20000,40000,100000, 200000,400000,1000000]:\n",
    "        hdl=open('torun/script_{}nm_{}Jcm2_{}fs_{}_por'.format(wavelength, fluence, pulselength, porosity),'w')\n",
    "        lmp = lammps()\n",
    "        print(wavelength,pulselength)\n",
    "        script=getscript(wavelength, fluence, pulselength, porosity,zmax, Size, Center, Radius,inputfilename)\n",
    "        for line in script.split('\\n'):\n",
    "            hdl.write(script)\n",
    "            hdl.close()\n",
    "            lmp.command(line)"
   ]
  },
  {
   "cell_type": "code",
   "execution_count": 7,
   "metadata": {},
   "outputs": [],
   "source": [
    "#from mpi4py import MPI\n",
    "#comm = MPI.COMM_WORLD\n",
    "#print (\"Proc %d out of %d procs\" % (comm.Get_rank(),comm.Get_size()))"
   ]
  },
  {
   "cell_type": "code",
   "execution_count": 38,
   "metadata": {},
   "outputs": [
    {
     "data": {
      "text/plain": [
       "[<matplotlib.lines.Line2D at 0x7f78d2ca4910>]"
      ]
     },
     "execution_count": 38,
     "metadata": {},
     "output_type": "execute_result"
    }
   ],
   "source": [
    "x1=[]\n",
    "y1=[]\n",
    "y2=[]\n",
    "for k in range(300,1100, 10):\n",
    "    x1.append(k)\n",
    "    y1.append(get1phabsorbance(k,abs1))\n",
    "    y2.append(get2phabsorbance(k,abs2))\n",
    "#plt.plot(x1,y1)\n",
    "plt.plot(x1,y2)"
   ]
  },
  {
   "cell_type": "code",
   "execution_count": 61,
   "metadata": {},
   "outputs": [
    {
     "name": "stdout",
     "output_type": "stream",
     "text": [
      "Using matplotlib backend: Qt5Agg\n"
     ]
    },
    {
     "data": {
      "text/plain": [
       "<mpl_toolkits.mplot3d.art3d.Poly3DCollection at 0x7f78d1fd4e90>"
      ]
     },
     "execution_count": 61,
     "metadata": {},
     "output_type": "execute_result"
    }
   ],
   "source": [
    "%matplotlib auto\n",
    "Xsez=[]\n",
    "Ysez=[]\n",
    "Zsez=[]\n",
    "c=[]\n",
    "for filename in ['outputs/'+file for file in os.listdir('outputs') if file.startswith('NPs_')]:\n",
    "    try:\n",
    "        flux=pd.read_csv(filename,sep=' ', header=2).iloc[800]['0.1']\n",
    "        wavelength=float(filename.split('output')[-1].split('nm')[-3])\n",
    "        fluence=float(filename.split('J')[-2].split('nm')[-1])\n",
    "        pulselength=float(filename.split('fs')[-2].split('cm2')[-1])\n",
    "        porous=float(filename.split('por')[-2].split('fs')[-1])\n",
    "        \n",
    "        if pulselength>0:\n",
    "            if wavelength>0 and porous<0.1:\n",
    "                Xsez.append(pulselength)#np.log(pulselength))\n",
    "                Ysez.append(wavelength)\n",
    "                Zsez.append(flux)\n",
    "                c.append(porous)\n",
    "    except:\n",
    "        None\n",
    "    #print(flux,wavelength,pulselength)\n",
    "\n",
    "\n",
    "fig = plt.figure()\n",
    "ax = Axes3D(fig) \n",
    "#ax.scatter(np.log(Xsez),Ysez,Zsez, c=c)\n",
    "ax.plot_trisurf(np.log(Xsez),Ysez,Zsez)\n",
    "#ax = Axes3D(fig) \n",
    "#ax.scatter(np.array(Xsez), np.array(Ysez), np.array(Zsez), 1, cmap='viridis', edgecolor='none')\n",
    "#ax.set_title('surface');"
   ]
  },
  {
   "cell_type": "code",
   "execution_count": 55,
   "metadata": {},
   "outputs": [],
   "source": [
    "A=list(set(np.log(Xsez)))\n",
    "A.sort()\n",
    "A=np.array(A)\n",
    "B=list(set(Ysez))\n",
    "B.sort()\n",
    "B=np.array(B)"
   ]
  },
  {
   "cell_type": "code",
   "execution_count": null,
   "metadata": {},
   "outputs": [],
   "source": [
    "x_ = np.linspace(0., nx-1., nx)\n",
    "y_ = np.linspace(0., ny-1., ny)\n",
    "z_ = np.linspace(0., nz-1., nz)\n",
    "x, y, z = np.meshgrid(x_, y_, z_, indexing='ij')\n",
    "x=x.astype(int)\n",
    "y=y.astype(int)\n",
    "z=z.astype(int)\n",
    "    #hdl2=open('inputstemp/'+filename,'w+')\n",
    "for obj in zip(x.flatten(),y.flatten(),z.flatten()):\n",
    "    #T=T0*np.exp(-z)\n",
    "    #hdl2.write(str(obj[0])+str(obj[1])+str(obj[2])+str(T)+'\\n')\n",
    "    A=0"
   ]
  },
  {
   "cell_type": "code",
   "execution_count": null,
   "metadata": {},
   "outputs": [],
   "source": [
    "#createinputelectrontemp('testelectgronfile.txt', 10,10,10,10000)"
   ]
  },
  {
   "cell_type": "code",
   "execution_count": null,
   "metadata": {},
   "outputs": [],
   "source": [
    "wavelength=300\n",
    "fluence=0.1\n",
    "createscript('in.porousfalse_{}nm{}Jcm2'.format(wavelength,fluence), size=100, porous=True, fluence=fluence, alpha=get1phabsorbance(wavelength, abs1), beta=get2phabsorbance(wavelength, abs2))"
   ]
  },
  {
   "cell_type": "code",
   "execution_count": null,
   "metadata": {},
   "outputs": [],
   "source": [
    "get1phabsorbance(400, abs1)"
   ]
  },
  {
   "cell_type": "code",
   "execution_count": null,
   "metadata": {},
   "outputs": [],
   "source": [
    "for scriptname in os.listdir('scripts'):\n",
    "    print ('CALL lmp_serial -in {} -pk omp 4 -sf omp'.format(scriptname))"
   ]
  },
  {
   "cell_type": "code",
   "execution_count": null,
   "metadata": {},
   "outputs": [],
   "source": [
    "plt.plot(calculate_tempdistr(300, 0.1, 1000000, 0.1, 100))"
   ]
  },
  {
   "cell_type": "code",
   "execution_count": null,
   "metadata": {},
   "outputs": [],
   "source": []
  }
 ],
 "metadata": {
  "kernelspec": {
   "display_name": "Python 3",
   "language": "python",
   "name": "python3"
  },
  "language_info": {
   "codemirror_mode": {
    "name": "ipython",
    "version": 3
   },
   "file_extension": ".py",
   "mimetype": "text/x-python",
   "name": "python",
   "nbconvert_exporter": "python",
   "pygments_lexer": "ipython3",
   "version": "3.7.6"
  }
 },
 "nbformat": 4,
 "nbformat_minor": 2
}
